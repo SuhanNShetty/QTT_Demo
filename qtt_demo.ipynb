{
 "cells": [
  {
   "cell_type": "markdown",
   "metadata": {},
   "source": [
    "# QTT Demo\n",
    "###### # Author: Suhan Shetty, suhan.shetty@idiap.ch | suhan.n.shetty@gmail.com"
   ]
  },
  {
   "cell_type": "code",
   "execution_count": 1,
   "metadata": {},
   "outputs": [
    {
     "name": "stderr",
     "output_type": "stream",
     "text": [
      "/Users/sshetty/miniconda3/envs/pyml/lib/python3.10/site-packages/tqdm/auto.py:22: TqdmWarning: IProgress not found. Please update jupyter and ipywidgets. See https://ipywidgets.readthedocs.io/en/stable/user_install.html\n",
      "  from .autonotebook import tqdm as notebook_tqdm\n"
     ]
    }
   ],
   "source": [
    "import torch\n",
    "#!pip install tntorch # if you dont have tntorch\n",
    "import tntorch as tnt "
   ]
  },
  {
   "cell_type": "markdown",
   "metadata": {},
   "source": [
    "### Define your scalar valued function"
   ]
  },
  {
   "cell_type": "code",
   "execution_count": 2,
   "metadata": {},
   "outputs": [],
   "source": [
    "# Define your scalar function\n",
    "def scalar_fcn(x): \n",
    "    # input shape,  x: batch x 1\n",
    "    # ouptut shape, y: batch x 1\n",
    "    return (x**2).view(-1) + torch.cos(2*torch.pi*x)"
   ]
  },
  {
   "cell_type": "markdown",
   "metadata": {},
   "source": [
    "### Define utility functions"
   ]
  },
  {
   "cell_type": "code",
   "execution_count": 3,
   "metadata": {},
   "outputs": [],
   "source": [
    "# Utility functions\n",
    "def domain2idx(x, domain):\n",
    "    '''\n",
    "        Input: x in interval [a,b], (shape: batch x 1)\n",
    "        Output: the corresponding index I in range (0, n-1), (shape: batch x 1)\n",
    "        domain: discretization tensor (e.g, torch.linspace(a,b,n))\n",
    "            where interval [a,b] is assumed to be discretized into n points \n",
    "            (note: n = 2^K, for some K>0)\n",
    "    '''\n",
    "\n",
    "    n = len(domain)\n",
    "    y = torch.clip(x, domain[0],domain[-1]).view(-1)\n",
    "    I = torch.clip(((y.view(-1,1)- domain.view(1,-1))>=0).sum(dim=-1)-1, 0,  len(domain)-2)\n",
    "    #I = torch.argmin(torch.abs(x[:,i].view(-1,1)- domain[i]), dim=1) \n",
    "    return I\n",
    "\n",
    "\n",
    "def idx2domain(I, domain): \n",
    "    '''\n",
    "        Output: x in interval [a,b], (shape: batch x 1)\n",
    "        Input: the corresponding index I in range (0, n-1), (shape: batch x 1)\n",
    "        domain: discretization tensor (e.g, torch.linspace(a,b,n))\n",
    "            where interval [a,b] is assumed to be discretized into n points \n",
    "            (note: n = 2^K, for some K>0)\n",
    "    '''\n",
    "    x = torch.zeros(len(I.view(-1)))\n",
    "    x =  domain[I.view(-1)]\n",
    "    return x.view(-1) \n",
    "\n",
    "\n",
    "def dec2binary(I, K):\n",
    "    '''\n",
    "        I: integer representing the discretization of the domain [a,b], shape: (batch x 1 )\n",
    "        K (number of bits): represents number discretization (note: n = 2^K, for some K>0)\n",
    "            (or its the length of the binary string representation)\n",
    "        return binary string of length K\n",
    "    '''\n",
    "    mask = 2**torch.arange(K).to(I.dtype)\n",
    "    return I.unsqueeze(-1).bitwise_and(mask).ne(0).byte().flip(dims=(1,)).long()\n",
    "\n",
    "\n",
    "def bin2dec(I_binary):\n",
    "    # return decimal\n",
    "    # I_binary: binary tensor\n",
    "    K = I_binary.shape[-1] # K: number of bits\n",
    "    mask = 2 ** torch.arange(K - 1, -1, -1).to(I_binary.dtype)\n",
    "    return torch.sum(mask * I_binary, -1)\n",
    "\n",
    "\n",
    "\n",
    "# # Evaluate elements of QTT model\n",
    "# def get_qtt_value(tt_model, idx_binary):\n",
    "#     '''\n",
    "#     Given the tt_model and a batch of index (binary idx) get the  elements\n",
    "#     '''\n",
    "#     tt_cores = tt_model.tt().cores\n",
    "#     mat_ = tt_cores[0][:,idx_binary[:,0].view(-1),:]\n",
    "#     for i in range(1,idx_binary.shape[-1]):\n",
    "#         mat_ = torch.einsum('ijk,kjl->ijl',(mat_,tt_cores[i][:,idx_binary[:,i]]))\n",
    "#     return mat_.view(-1)\n",
    "\n",
    "def get_tt_value(tt_model, x,  domain, K, spline_type='linear'):\n",
    "    '''\n",
    "        Given the qtt_model and the points from the domain\n",
    "    '''\n",
    "    tt_cores = tt_model.tt().cores[:]\n",
    "    n_discretization = len(domain)\n",
    "    idx_1 = domain2idx(x, domain).view(-1)\n",
    "    idx_2 = idx_1 + 1 \n",
    "    x_1 = idx2domain(idx_1,domain).view(-1)\n",
    "    x_2 = idx2domain(idx_2,domain).view(-1)\n",
    "    idx_binary_1 = dec2binary(idx_1, K)\n",
    "    idx_binary_2 = dec2binary(idx_2, K)\n",
    "    dx = (x-x_1)/(1e-9+ (x_2-x_1))\n",
    "    mat_ = tt_cores[0][:,idx_binary_1[:,0],:]+dx.view(1,-1,1)*(tt_cores[0][:,idx_binary_2[:,0],:]-tt_cores[0][:,idx_binary_1[:,0],:])\n",
    "    for i in range(1,idx_binary_1.shape[-1]):\n",
    "        mat = tt_cores[i][:,idx_binary_1[:,i],:]+dx.view(1,-1,1)*(tt_cores[i][:,idx_binary_2[:,i],:]-tt_cores[i][:,idx_binary_1[:,i],:])\n",
    "        mat_ = torch.einsum('ijk,kjl->ijl',mat_,mat)\n",
    "    return mat_.view(-1)\n"
   ]
  },
  {
   "cell_type": "markdown",
   "metadata": {},
   "source": [
    "### Fit QTT model"
   ]
  },
  {
   "cell_type": "code",
   "execution_count": 4,
   "metadata": {},
   "outputs": [
    {
     "name": "stdout",
     "output_type": "stream",
     "text": [
      "Number of bits for quantization :8, num discretization:256\n"
     ]
    }
   ],
   "source": [
    "# Define the number of binary bits for QTT representation\n",
    "K = 8\n",
    "n = 2**K # number of discretization\n",
    "print(f\"Number of bits for quantization :{K}, num discretization:{n}\")"
   ]
  },
  {
   "cell_type": "code",
   "execution_count": 5,
   "metadata": {},
   "outputs": [],
   "source": [
    "# Cross approximation hyperparams\n",
    "max_qtt_rank = 10\n",
    "num_tt_cross_iterations  = 100\n",
    "desired_accuracy = 1e-3"
   ]
  },
  {
   "cell_type": "code",
   "execution_count": 6,
   "metadata": {},
   "outputs": [
    {
     "name": "stdout",
     "output_type": "stream",
     "text": [
      "cross device is cpu\n",
      "Cross-approximation over a 8D domain containing 256 grid points:\n",
      "iter: 0   | eps: 8.445e-01 | time:   0.0167 | largest rank:   1\n",
      "iter: 1   | eps: 4.950e-07 | time:   0.0518 | largest rank:   6 <- converged: eps < 0.001\n",
      "Did 586 function evaluations, which took 0.004783s (1.225e+05 evals/s)\n",
      "\n"
     ]
    }
   ],
   "source": [
    "# Find the QTT model\n",
    "domain = torch.linspace(-1,1,n) #domain of the function \n",
    "domain_qtt = [torch.tensor([0,1])]*K\n",
    "\n",
    "# The corresponding qtt function\n",
    "def quantized_scalar_fcn(I_binary): \n",
    "    # I_binary: binary representation\n",
    "    I_dec = bin2dec(I_binary).long()\n",
    "    x = idx2domain(I_dec, domain)\n",
    "    return scalar_fcn(x).view(-1)\n",
    "\n",
    "# cross approximation to find the QTT model\n",
    "qtt_model = tnt.cross(quantized_scalar_fcn,\n",
    "                        domain=domain_qtt,\n",
    "                        max_iter=num_tt_cross_iterations, \n",
    "                        eps=desired_accuracy, \n",
    "                        rmax=max_qtt_rank, \n",
    "                        kickrank=5, \n",
    "                        function_arg='matrix',\n",
    "                        device=\"cpu\",\n",
    "                        _minimize=False,\n",
    "                        val_size=1000,\n",
    "                          verbose=True)\n"
   ]
  },
  {
   "cell_type": "code",
   "execution_count": 7,
   "metadata": {},
   "outputs": [
    {
     "name": "stdout",
     "output_type": "stream",
     "text": [
      "Rank of the QTT model:  [2, 2, 2, 2, 2, 2, 2, 2]\n",
      "Number of parameters in QTT model:  280\n"
     ]
    }
   ],
   "source": [
    "print(\"Rank of the QTT model: \", [core.shape[1] for core in qtt_model.tt().cores])\n",
    "def get_num_params_tt(tt_model):\n",
    "    m = 0\n",
    "    for core in tt_model.tt().cores[:]:\n",
    "        m = m + core.shape[0]*core.shape[1]*core.shape[2]\n",
    "    return m\n",
    "num_tt_params = get_num_params_tt(qtt_model)\n",
    "print(\"Number of parameters in QTT model: \", num_tt_params)\n"
   ]
  },
  {
   "cell_type": "code",
   "execution_count": 8,
   "metadata": {},
   "outputs": [],
   "source": [
    "# Procedure to retrieve values from QTT model\n",
    "def get_model_value(x):\n",
    "    # x: a batch of points from the domain of the scalar_fcn()\n",
    "    # uses linear interpolation\n",
    "    return get_tt_value(tt_model=qtt_model, x=x, domain=domain, K=K) "
   ]
  },
  {
   "cell_type": "markdown",
   "metadata": {},
   "source": [
    "### Test QTT model"
   ]
  },
  {
   "cell_type": "code",
   "execution_count": 9,
   "metadata": {},
   "outputs": [],
   "source": [
    "# Test points\n",
    "x = torch.linspace(-1,1,100) # from domain\n",
    "y_true = scalar_fcn(x)\n",
    "y_qtt = get_model_value(x)\n"
   ]
  },
  {
   "cell_type": "code",
   "execution_count": 10,
   "metadata": {},
   "outputs": [
    {
     "data": {
      "text/plain": [
       "<matplotlib.legend.Legend at 0x7f86f05584c0>"
      ]
     },
     "execution_count": 10,
     "metadata": {},
     "output_type": "execute_result"
    },
    {
     "data": {
      "image/png": "[encoded data removed]",
      "text/plain": [
       "<Figure size 640x480 with 1 Axes>"
      ]
     },
     "metadata": {},
     "output_type": "display_data"
    }
   ],
   "source": [
    "import matplotlib.pyplot as plt\n",
    "plt.plot(x, y_true, '*', label='true')\n",
    "plt.plot(x, y_qtt, '-', label='qtt')\n",
    "plt.legend()\n"
   ]
  },
  {
   "cell_type": "code",
   "execution_count": 11,
   "metadata": {},
   "outputs": [],
   "source": [
    "# Sanity check of utility functions\n",
    "\n",
    "# Evaluate your function\n",
    "\n",
    "\n",
    "# # index of the discretization point (0, n-1)\n",
    "# I_left = domain2idx(x, domain)\n",
    "# I_right = I_left + 1\n",
    "\n",
    "# # binary qauntization\n",
    "# Ib_left = dec2binary(I_left, K)\n",
    "# Ib_right = dec2binary(I_right, K)\n",
    "\n",
    "# # Get back the index for sanity check\n",
    "# Idec_left = bin2dec(Ib_left)\n",
    "# Idec_right = bin2dec(Ib_right)\n",
    "\n",
    "# #Evaluate the qtt function\n",
    "# y_left = quantized_scalar_fcn(Ib_left)\n",
    "# y_right = quantized_scalar_fcn(Ib_right)\n",
    "\n",
    "# y_qtt_left = get_qtt_value(qtt_model, Ib_left)\n",
    "# y_qtt_right = get_qtt_value(qtt_model, Ib_right)"
   ]
  },
  {
   "cell_type": "code",
   "execution_count": null,
   "metadata": {},
   "outputs": [],
   "source": []
  },
  {
   "cell_type": "code",
   "execution_count": null,
   "metadata": {},
   "outputs": [],
   "source": []
  }
 ],
 "metadata": {
  "kernelspec": {
   "display_name": "pyml",
   "language": "python",
   "name": "python3"
  },
  "language_info": {
   "codemirror_mode": {
    "name": "ipython",
    "version": 3
   },
   "file_extension": ".py",
   "mimetype": "text/x-python",
   "name": "python",
   "nbconvert_exporter": "python",
   "pygments_lexer": "ipython3",
   "version": "3.10.8"
  }
 },
 "nbformat": 4,
 "nbformat_minor": 2
}
